{
  "nbformat": 4,
  "nbformat_minor": 0,
  "metadata": {
    "colab": {
      "name": "Dynamic plots in a web app.ipynb",
      "provenance": [],
      "collapsed_sections": [],
      "authorship_tag": "ABX9TyNC7n7jFut7JUKrQnHvOK9G",
      "include_colab_link": true
    },
    "kernelspec": {
      "name": "python3",
      "display_name": "Python 3"
    },
    "language_info": {
      "name": "python"
    }
  },
  "cells": [
    {
      "cell_type": "markdown",
      "metadata": {
        "id": "view-in-github",
        "colab_type": "text"
      },
      "source": [
        "<a href=\"https://colab.research.google.com/github/AlisonJD/tb_examples/blob/main/Dynamic_plots_in_a_web_app.ipynb\" target=\"_parent\"><img src=\"https://colab.research.google.com/assets/colab-badge.svg\" alt=\"Open In Colab\"/></a>"
      ]
    },
    {
      "cell_type": "markdown",
      "metadata": {
        "id": "SrU4-uGtD1qa"
      },
      "source": [
        "# Dynamic plots in a web app\n",
        "\n",
        "##Using Tinybird, Streamlit and ngrok\n",
        "\n",
        "###Example of New York City Yellow Taxi Trips"
      ]
    },
    {
      "cell_type": "code",
      "metadata": {
        "id": "lZO7thw-ZbeW",
        "colab": {
          "base_uri": "https://localhost:8080/"
        },
        "outputId": "37c86b13-67c2-42a9-e9ec-1c9dc9851be9"
      },
      "source": [
        "!pip install -q streamlit\n",
        "!pip install pyngrok"
      ],
      "execution_count": 1,
      "outputs": [
        {
          "output_type": "stream",
          "name": "stdout",
          "text": [
            "\u001b[K     |████████████████████████████████| 8.3 MB 4.5 MB/s \n",
            "\u001b[K     |████████████████████████████████| 4.3 MB 11.3 MB/s \n",
            "\u001b[K     |████████████████████████████████| 76 kB 5.3 MB/s \n",
            "\u001b[K     |████████████████████████████████| 111 kB 59.4 MB/s \n",
            "\u001b[K     |████████████████████████████████| 180 kB 53.9 MB/s \n",
            "\u001b[K     |████████████████████████████████| 63 kB 1.6 MB/s \n",
            "\u001b[K     |████████████████████████████████| 124 kB 56.5 MB/s \n",
            "\u001b[K     |████████████████████████████████| 788 kB 56.7 MB/s \n",
            "\u001b[K     |████████████████████████████████| 370 kB 62.3 MB/s \n",
            "\u001b[?25h  Building wheel for blinker (setup.py) ... \u001b[?25l\u001b[?25hdone\n",
            "\u001b[31mERROR: pip's dependency resolver does not currently take into account all the packages that are installed. This behaviour is the source of the following dependency conflicts.\n",
            "jupyter-console 5.2.0 requires prompt-toolkit<2.0.0,>=1.0.0, but you have prompt-toolkit 3.0.20 which is incompatible.\n",
            "google-colab 1.0.0 requires ipykernel~=4.10, but you have ipykernel 6.4.1 which is incompatible.\n",
            "google-colab 1.0.0 requires ipython~=5.5.0, but you have ipython 7.28.0 which is incompatible.\u001b[0m\n",
            "Collecting pyngrok\n",
            "  Downloading pyngrok-5.1.0.tar.gz (745 kB)\n",
            "\u001b[K     |████████████████████████████████| 745 kB 5.2 MB/s \n",
            "\u001b[?25hRequirement already satisfied: PyYAML in /usr/local/lib/python3.7/dist-packages (from pyngrok) (3.13)\n",
            "Building wheels for collected packages: pyngrok\n",
            "  Building wheel for pyngrok (setup.py) ... \u001b[?25l\u001b[?25hdone\n",
            "  Created wheel for pyngrok: filename=pyngrok-5.1.0-py3-none-any.whl size=19006 sha256=d7a021e568855072dcd7c9cbfe4273a6106769e73356a4e21d7223a1b8439273\n",
            "  Stored in directory: /root/.cache/pip/wheels/bf/e6/af/ccf6598ecefecd44104069371795cb9b3afbcd16987f6ccfb3\n",
            "Successfully built pyngrok\n",
            "Installing collected packages: pyngrok\n",
            "Successfully installed pyngrok-5.1.0\n"
          ]
        }
      ]
    },
    {
      "cell_type": "markdown",
      "metadata": {
        "id": "JesL3ykdofsf"
      },
      "source": [
        "Restart runtime"
      ]
    },
    {
      "cell_type": "code",
      "metadata": {
        "id": "kLtGS3p2oAtk"
      },
      "source": [
        "import streamlit as st\n",
        "from pyngrok import ngrok"
      ],
      "execution_count": 1,
      "outputs": []
    },
    {
      "cell_type": "code",
      "metadata": {
        "colab": {
          "base_uri": "https://localhost:8080/"
        },
        "id": "Jj-YNAEhhAzo",
        "outputId": "8172a0e1-e9e8-4395-cc12-7f189cfbb7a6"
      },
      "source": [
        "#!ngrok authtoken <your token from https://dashboard.ngrok.com/get-started/your-authtoken>"
      ],
      "execution_count": 2,
      "outputs": [
        {
          "output_type": "stream",
          "name": "stdout",
          "text": [
            "Authtoken saved to configuration file: /root/.ngrok2/ngrok.yml\n"
          ]
        }
      ]
    },
    {
      "cell_type": "markdown",
      "metadata": {
        "id": "-a8DkLUzEV7F"
      },
      "source": [
        "##Node in Tinybird \n",
        "\n",
        "```\n",
        "%\n",
        "SELECT \n",
        "  toHour(tpep_pickup_datetime) as hr, \n",
        "  count() as trips \n",
        "FROM node_0\n",
        "WHERE toDate(tpep_pickup_datetime) \n",
        "BETWEEN {{Date(start_date, '2019-01-01')}} AND {{Date(end_date, '2019-01-31')}}\n",
        "AND puborough_id = {{UInt8(pick_up_id, 0)}} AND doborough_id = {{UInt8(drop_off_id, 0)}} \n",
        "GROUP BY hr\n",
        "```"
      ]
    },
    {
      "cell_type": "markdown",
      "metadata": {
        "id": "C6UxAwOnEy1t"
      },
      "source": [
        "## Streamlit app"
      ]
    },
    {
      "cell_type": "code",
      "metadata": {
        "colab": {
          "base_uri": "https://localhost:8080/"
        },
        "id": "TYEkyCAId62J",
        "outputId": "43801330-3438-4cac-83a4-0c9ec9f8d62c"
      },
      "source": [
        "%%writefile app.py\n",
        "import streamlit as st\n",
        "import datetime\n",
        "\n",
        "import pandas as pd\n",
        "import plotly.express as px\n",
        "\n",
        "def main():\n",
        "  st.title(\"New York City Yellow Taxi Trips\")\n",
        "\n",
        "  st.sidebar.title(\"Select boroughs and dates\")\n",
        "\n",
        "  boroughs = ['Bronx', 'Brooklyn', 'EWR', 'Manhattan','Queens','Staten Island']\n",
        "  pick_up = st.sidebar.radio('Pick-up borough', boroughs)\n",
        "  drop_off = st.sidebar.radio('Drop-off borough', boroughs)\n",
        "\n",
        "  pick_up_id=boroughs.index(pick_up)\n",
        "  drop_off_id=boroughs.index(drop_off)\n",
        "\n",
        "  start_date = st.sidebar.date_input('Start date', min_value = datetime.date(2019,1,1), max_value = datetime.date(2019,12,31), value = datetime.date(2019, 1, 1))\n",
        "  end_date = st.sidebar.date_input('End date', min_value = datetime.date(2019,1,1), max_value = datetime.date(2019,12,31), value = datetime.date(2019, 1, 31))\n",
        "\n",
        "  start = start_date.strftime(\"%Y-%m-%d\")\n",
        "  end = end_date.strftime(\"%Y-%m-%d\")\n",
        "\n",
        "  text = \"From \" + pick_up + \" to \" + drop_off\n",
        "  st.subheader(text)\n",
        "\n",
        "  text = \"in the period \" + start + \" to \" + end\n",
        "  st.subheader(text)\n",
        "\n",
        "  output = 'https://api.tinybird.co/v0/pipes/taxi_boroughs_by_hr.csv?start_date='+start+'&end_date='+end+'&pick_up_id='+str(pick_up_id)+'&drop_off_id='+str(drop_off_id)+'&token=p.eyJ1IjogImNkMDZkYzdlLTA5NWEtNDA0YS1iODNkLWQ1NzUwNmViYWZlZCIsICJpZCI6ICJhYjE5YzU1Ny1mYzlkLTQ4MmUtOTY0NC00ZjNlYmIxNWE3ZjIifQ.xbE9Ht1ZxKUrcG2HpHclTBOjctlYSPUm_GYzlehow6o'\n",
        "  df=pd.read_csv(output)\n",
        "  \n",
        "  plot = px.bar(\n",
        "                data_frame=df,\n",
        "                x = \"hr\",\n",
        "                y = \"trips\",\n",
        "                color = \"percent\",\n",
        "                title=\"How trips vary over the day\",\n",
        "                labels={\n",
        "                     \"hr\": \"Hour of the day\",\n",
        "                     \"trips\": \"Total number of trips\"\n",
        "                 }\n",
        "            )\n",
        "  st.plotly_chart(plot, use_container_width=True)\n",
        "\n",
        "  text = \"Compare this to total New York City trips over the same period\"\n",
        "  st.subheader(text)\n",
        "\n",
        "  output = 'https://api.tinybird.co/v0/pipes/taxi_by_hr.csv?start_date='+start+'&end_date='+end+'&token=p.eyJ1IjogImNkMDZkYzdlLTA5NWEtNDA0YS1iODNkLWQ1NzUwNmViYWZlZCIsICJpZCI6ICIzMmVmYTZjMy1iY2Q4LTQxYTMtOTVkMy1iNWYyMDEyZmM5MmEifQ.6SsAU9SOROgPJN9jaZACb9Xqn-EKTL602xK0t0p2j8o'\n",
        "  df=pd.read_csv(output)\n",
        "  \n",
        "  plot = px.bar(\n",
        "                data_frame=df,\n",
        "                x = \"hr\",\n",
        "                y = \"trips\",\n",
        "                color = \"percent\",\n",
        "                title=\"How trips vary over the day\",\n",
        "                labels={\n",
        "                     \"hr\": \"Hour of the day\",\n",
        "                     \"trips\": \"Total number of trips\"\n",
        "                 }\n",
        "            )\n",
        "  st.plotly_chart(plot, use_container_width=True)\n",
        "\n",
        "  st.subheader(\"Note how Manhattan dominates the trips!\")\n",
        "\n",
        "  st.markdown('#### Example Tinybird node')\n",
        "\n",
        "  st.markdown('''\n",
        "  %\n",
        "\n",
        "SELECT \n",
        "\n",
        "  toHour(tpep_pickup_datetime) as hr, \n",
        "\n",
        "  count() as trips \n",
        "\n",
        "FROM node_0\n",
        "\n",
        "WHERE toDate(tpep_pickup_datetime) \n",
        "\n",
        "BETWEEN {{Date(start_date, '2019-01-01')}} AND {{Date(end_date, '2019-12-31')}}\n",
        "\n",
        "AND puborough_id = {{UInt8(pick_up_id, 0)}} AND doborough_id = {{UInt8(drop_off_id, 0)}} \n",
        "\n",
        "GROUP BY hr\n",
        "\n",
        "'''\n",
        ")\n",
        "\n",
        "if __name__ == '__main__':\n",
        "\tmain()"
      ],
      "execution_count": 35,
      "outputs": [
        {
          "output_type": "stream",
          "name": "stdout",
          "text": [
            "Overwriting app.py\n"
          ]
        }
      ]
    },
    {
      "cell_type": "code",
      "metadata": {
        "id": "cIm1SKWngLMD",
        "colab": {
          "base_uri": "https://localhost:8080/"
        },
        "outputId": "84f20b92-931d-4d36-8b7a-0fde0a776d50"
      },
      "source": [
        "!streamlit run --server.port 80 app.py &>/dev/null&\n",
        "url=ngrok.connect()\n",
        "url"
      ],
      "execution_count": 37,
      "outputs": [
        {
          "output_type": "stream",
          "name": "stderr",
          "text": [
            "2021-10-17 18:32:10.603 INFO    pyngrok.ngrok: Opening tunnel named: http-80-0c1e6a14-8594-465d-9777-756b66e31042\n",
            "2021-10-17 18:32:10.638 INFO    pyngrok.process.ngrok: t=2021-10-17T18:32:10+0000 lvl=info msg=\"no configuration paths supplied\"\n",
            "2021-10-17 18:32:10.641 INFO    pyngrok.process.ngrok: t=2021-10-17T18:32:10+0000 lvl=info msg=\"using configuration at default config path\" path=/root/.ngrok2/ngrok.yml\n",
            "2021-10-17 18:32:10.643 INFO    pyngrok.process.ngrok: t=2021-10-17T18:32:10+0000 lvl=info msg=\"open config file\" path=/root/.ngrok2/ngrok.yml err=nil\n",
            "2021-10-17 18:32:10.653 INFO    pyngrok.process.ngrok: t=2021-10-17T18:32:10+0000 lvl=info msg=\"starting web service\" obj=web addr=127.0.0.1:4040\n",
            "2021-10-17 18:32:10.820 INFO    pyngrok.process.ngrok: t=2021-10-17T18:32:10+0000 lvl=info msg=\"tunnel session started\" obj=tunnels.session\n",
            "2021-10-17 18:32:10.822 INFO    pyngrok.process.ngrok: t=2021-10-17T18:32:10+0000 lvl=info msg=\"client session established\" obj=csess id=d695c8d31b4f\n",
            "2021-10-17 18:32:10.836 INFO    pyngrok.process.ngrok: t=2021-10-17T18:32:10+0000 lvl=info msg=start pg=/api/tunnels id=fbe1dfa60f306c54\n",
            "2021-10-17 18:32:10.839 INFO    pyngrok.process.ngrok: t=2021-10-17T18:32:10+0000 lvl=info msg=end pg=/api/tunnels id=fbe1dfa60f306c54 status=200 dur=435.331µs\n",
            "2021-10-17 18:32:10.843 INFO    pyngrok.process.ngrok: t=2021-10-17T18:32:10+0000 lvl=info msg=start pg=/api/tunnels id=5155e02df17fcff4\n",
            "2021-10-17 18:32:10.845 INFO    pyngrok.process.ngrok: t=2021-10-17T18:32:10+0000 lvl=info msg=end pg=/api/tunnels id=5155e02df17fcff4 status=200 dur=151.398µs\n",
            "2021-10-17 18:32:10.847 INFO    pyngrok.process.ngrok: t=2021-10-17T18:32:10+0000 lvl=info msg=start pg=/api/tunnels id=0ba5a58552b48ebb\n",
            "2021-10-17 18:32:10.920 INFO    pyngrok.process.ngrok: t=2021-10-17T18:32:10+0000 lvl=info msg=\"started tunnel\" obj=tunnels name=\"http-80-0c1e6a14-8594-465d-9777-756b66e31042 (http)\" addr=http://localhost:80 url=http://bc99-35-185-43-242.ngrok.io\n",
            "2021-10-17 18:32:10.926 INFO    pyngrok.process.ngrok: t=2021-10-17T18:32:10+0000 lvl=info msg=\"started tunnel\" obj=tunnels name=http-80-0c1e6a14-8594-465d-9777-756b66e31042 addr=http://localhost:80 url=https://bc99-35-185-43-242.ngrok.io\n",
            "2021-10-17 18:32:10.933 INFO    pyngrok.process.ngrok: t=2021-10-17T18:32:10+0000 lvl=info msg=end pg=/api/tunnels id=0ba5a58552b48ebb status=201 dur=85.264045ms\n"
          ]
        },
        {
          "output_type": "execute_result",
          "data": {
            "text/plain": [
              "<NgrokTunnel: \"http://bc99-35-185-43-242.ngrok.io\" -> \"http://localhost:80\">"
            ]
          },
          "metadata": {},
          "execution_count": 37
        },
        {
          "output_type": "stream",
          "name": "stderr",
          "text": [
            "2021-10-17 18:32:10.935 INFO    pyngrok.process.ngrok: t=2021-10-17T18:32:10+0000 lvl=info msg=start pg=\"/api/tunnels/http-80-0c1e6a14-8594-465d-9777-756b66e31042 (http)\" id=3742cad3b113be10\n",
            "2021-10-17 18:32:10.940 INFO    pyngrok.process.ngrok: t=2021-10-17T18:32:10+0000 lvl=info msg=end pg=\"/api/tunnels/http-80-0c1e6a14-8594-465d-9777-756b66e31042 (http)\" id=3742cad3b113be10 status=200 dur=217.222µs\n"
          ]
        }
      ]
    },
    {
      "cell_type": "code",
      "metadata": {
        "colab": {
          "base_uri": "https://localhost:8080/"
        },
        "id": "KcvgaS93omiY",
        "outputId": "5a8b7a10-304a-41d9-dc19-34770811f1ce"
      },
      "source": [
        "!killall ngrok"
      ],
      "execution_count": 36,
      "outputs": [
        {
          "output_type": "stream",
          "name": "stderr",
          "text": [
            "2021-10-17 18:32:07.941 INFO    pyngrok.process.ngrok: t=2021-10-17T18:32:07+0000 lvl=info msg=\"received stop request\" obj=app stopReq=\"{err:<nil> restart:false}\"\n"
          ]
        }
      ]
    },
    {
      "cell_type": "code",
      "metadata": {
        "id": "5a3JXqSZgRnj"
      },
      "source": [
        ""
      ],
      "execution_count": null,
      "outputs": []
    }
  ]
}