{
  "nbformat": 4,
  "nbformat_minor": 0,
  "metadata": {
    "colab": {
      "name": "Dynamic plots in a web app.ipynb",
      "provenance": [],
      "collapsed_sections": [],
      "authorship_tag": "ABX9TyOk6y2uEVCAQGu780s8VO0I",
      "include_colab_link": true
    },
    "kernelspec": {
      "name": "python3",
      "display_name": "Python 3"
    },
    "language_info": {
      "name": "python"
    }
  },
  "cells": [
    {
      "cell_type": "markdown",
      "metadata": {
        "id": "view-in-github",
        "colab_type": "text"
      },
      "source": [
        "<a href=\"https://colab.research.google.com/github/AlisonJD/tb_examples/blob/main/Dynamic_plots_in_a_web_app.ipynb\" target=\"_parent\"><img src=\"https://colab.research.google.com/assets/colab-badge.svg\" alt=\"Open In Colab\"/></a>"
      ]
    },
    {
      "cell_type": "markdown",
      "metadata": {
        "id": "SrU4-uGtD1qa"
      },
      "source": [
        "# Dynamic plots in a web app\n",
        "\n",
        "##Using Tinybird, Streamlit and ngrok\n",
        "\n",
        "###Example of New York City Yellow Taxi Trips"
      ]
    },
    {
      "cell_type": "code",
      "metadata": {
        "id": "lZO7thw-ZbeW",
        "colab": {
          "base_uri": "https://localhost:8080/"
        },
        "outputId": "7a60993d-56c3-4c40-ce38-5e335260eb5d"
      },
      "source": [
        "!pip install -q streamlit\n",
        "!pip install pyngrok"
      ],
      "execution_count": null,
      "outputs": [
        {
          "output_type": "stream",
          "name": "stdout",
          "text": [
            "\u001b[K     |████████████████████████████████| 8.3 MB 4.4 MB/s \n",
            "\u001b[K     |████████████████████████████████| 76 kB 2.5 MB/s \n",
            "\u001b[K     |████████████████████████████████| 4.3 MB 43.6 MB/s \n",
            "\u001b[K     |████████████████████████████████| 111 kB 26.7 MB/s \n",
            "\u001b[K     |████████████████████████████████| 180 kB 35.1 MB/s \n",
            "\u001b[K     |████████████████████████████████| 63 kB 1.2 MB/s \n",
            "\u001b[K     |████████████████████████████████| 124 kB 29.5 MB/s \n",
            "\u001b[K     |████████████████████████████████| 788 kB 45.5 MB/s \n",
            "\u001b[K     |████████████████████████████████| 370 kB 42.2 MB/s \n",
            "\u001b[?25h  Building wheel for blinker (setup.py) ... \u001b[?25l\u001b[?25hdone\n",
            "\u001b[31mERROR: pip's dependency resolver does not currently take into account all the packages that are installed. This behaviour is the source of the following dependency conflicts.\n",
            "jupyter-console 5.2.0 requires prompt-toolkit<2.0.0,>=1.0.0, but you have prompt-toolkit 3.0.20 which is incompatible.\n",
            "google-colab 1.0.0 requires ipykernel~=4.10, but you have ipykernel 6.4.1 which is incompatible.\n",
            "google-colab 1.0.0 requires ipython~=5.5.0, but you have ipython 7.28.0 which is incompatible.\u001b[0m\n",
            "Collecting pyngrok\n",
            "  Downloading pyngrok-5.1.0.tar.gz (745 kB)\n",
            "\u001b[K     |████████████████████████████████| 745 kB 5.2 MB/s \n",
            "\u001b[?25hRequirement already satisfied: PyYAML in /usr/local/lib/python3.7/dist-packages (from pyngrok) (3.13)\n",
            "Building wheels for collected packages: pyngrok\n",
            "  Building wheel for pyngrok (setup.py) ... \u001b[?25l\u001b[?25hdone\n",
            "  Created wheel for pyngrok: filename=pyngrok-5.1.0-py3-none-any.whl size=19006 sha256=4c7eb76ecdab2933930b09e4087b8e355906e3c0414564e95c13ba56e480624f\n",
            "  Stored in directory: /root/.cache/pip/wheels/bf/e6/af/ccf6598ecefecd44104069371795cb9b3afbcd16987f6ccfb3\n",
            "Successfully built pyngrok\n",
            "Installing collected packages: pyngrok\n",
            "Successfully installed pyngrok-5.1.0\n"
          ]
        }
      ]
    },
    {
      "cell_type": "markdown",
      "metadata": {
        "id": "JesL3ykdofsf"
      },
      "source": [
        "Restart runtime"
      ]
    },
    {
      "cell_type": "code",
      "metadata": {
        "id": "kLtGS3p2oAtk"
      },
      "source": [
        "import streamlit as st\n",
        "from pyngrok import ngrok"
      ],
      "execution_count": null,
      "outputs": []
    },
    {
      "cell_type": "code",
      "metadata": {
        "colab": {
          "base_uri": "https://localhost:8080/"
        },
        "id": "Jj-YNAEhhAzo",
        "outputId": "7002dec1-6307-4dac-8a37-273f36cc94de"
      },
      "source": [
        "#!ngrok authtoken <your token from https://dashboard.ngrok.com/get-started/your-authtoken>"
      ],
      "execution_count": null,
      "outputs": [
        {
          "output_type": "stream",
          "name": "stdout",
          "text": [
            "Authtoken saved to configuration file: /root/.ngrok2/ngrok.yml\n"
          ]
        }
      ]
    },
    {
      "cell_type": "markdown",
      "metadata": {
        "id": "-a8DkLUzEV7F"
      },
      "source": [
        "##Node in Tinybird used to create API Endpoint\n",
        "\n",
        "```\n",
        "%\n",
        "SELECT toHour(tpep_pickup_datetime) as hr, count() as trips \n",
        "FROM node_0\n",
        "WHERE toDate(tpep_pickup_datetime) BETWEEN {{Date(start_date, '2019-01-01')}} AND {{Date(end_date, '2019-12-31')}}\n",
        "AND puborough_id = {{UInt8(pick_up_id, 0)}} AND doborough_id = {{UInt8(drop_off_id, 0)}} \n",
        "GROUP BY hr\n",
        "ORDER BY hr\n",
        "```"
      ]
    },
    {
      "cell_type": "markdown",
      "metadata": {
        "id": "C6UxAwOnEy1t"
      },
      "source": [
        "## Streamlit app"
      ]
    },
    {
      "cell_type": "code",
      "metadata": {
        "colab": {
          "base_uri": "https://localhost:8080/"
        },
        "id": "TYEkyCAId62J",
        "outputId": "85477884-d6f2-4878-9608-c96a73c202ad"
      },
      "source": [
        "%%writefile app.py\n",
        "import streamlit as st\n",
        "import datetime\n",
        "\n",
        "import pandas as pd\n",
        "import plotly.express as px\n",
        "\n",
        "def main():\n",
        "  st.title(\"New York City Yellow Taxi Trips\")\n",
        "\n",
        "  st.sidebar.title(\"Select boroughs and dates\")\n",
        "\n",
        "  boroughs = ['Bronx', 'Brooklyn', 'EWR', 'Manhattan','Queens','Staten Island']\n",
        "  pick_up = st.sidebar.radio('Pick-up borough', boroughs)\n",
        "  drop_off = st.sidebar.radio('Drop-off borough', boroughs)\n",
        "\n",
        "  pick_up_id=boroughs.index(pick_up)\n",
        "  drop_off_id=boroughs.index(drop_off)\n",
        "\n",
        "  start_date = st.sidebar.date_input('Start date', min_value = datetime.date(2019,1,1), max_value = datetime.date(2019,12,31), value = datetime.date(2019, 1, 1))\n",
        "  end_date = st.sidebar.date_input('End date', min_value = datetime.date(2019,1,1), max_value = datetime.date(2019,12,31), value = datetime.date(2019, 12, 31))\n",
        "\n",
        "  start = start_date.strftime(\"%Y-%m-%d\")\n",
        "  end = end_date.strftime(\"%Y-%m-%d\")\n",
        "\n",
        "  text = \"From \" + pick_up + \" to \" + drop_off + \" in the period \" + start + \" to \" + end\n",
        "  st.subheader(text)\n",
        "\n",
        "  output = 'https://api.tinybird.co/v0/pipes/taxi_boroughs_by_hr.csv?start_date='+start+'&end_date='+end+'&pick_up_id='+str(pick_up_id)+'&drop_off_id='+str(drop_off_id)+'&token=p.eyJ1IjogImNkMDZkYzdlLTA5NWEtNDA0YS1iODNkLWQ1NzUwNmViYWZlZCIsICJpZCI6ICJhYjE5YzU1Ny1mYzlkLTQ4MmUtOTY0NC00ZjNlYmIxNWE3ZjIifQ.xbE9Ht1ZxKUrcG2HpHclTBOjctlYSPUm_GYzlehow6o'\n",
        "  df=pd.read_csv(output)\n",
        "  \n",
        "  plot = px.bar(\n",
        "                data_frame=df,\n",
        "                x=\"hr\",\n",
        "                y=\"trips\",\n",
        "                title=\"How trips vary over the day\",\n",
        "                labels={\n",
        "                     \"hr\": \"Hour of the day\",\n",
        "                     \"trips\": \"Total number of trips\"\n",
        "                 }\n",
        "            )\n",
        "  st.plotly_chart(plot, use_container_width=True)\n",
        "\n",
        "  text = \"Compare this to total New York City trips over the same period\"\n",
        "  st.subheader(text)\n",
        "\n",
        "  output = 'https://api.tinybird.co/v0/pipes/taxi_by_hr.csv?start_date='+start+'&end_date='+end+'&token=p.eyJ1IjogImNkMDZkYzdlLTA5NWEtNDA0YS1iODNkLWQ1NzUwNmViYWZlZCIsICJpZCI6ICIzMmVmYTZjMy1iY2Q4LTQxYTMtOTVkMy1iNWYyMDEyZmM5MmEifQ.6SsAU9SOROgPJN9jaZACb9Xqn-EKTL602xK0t0p2j8o'\n",
        "  df=pd.read_csv(output)\n",
        "  \n",
        "  plot = px.bar(\n",
        "                data_frame=df,\n",
        "                x=\"hr\",\n",
        "                y=\"trips\",\n",
        "                color_discrete_sequence =['orange']*len(df),\n",
        "                title=\"How trips vary over the day\",\n",
        "                labels={\n",
        "                     \"hr\": \"Hour of the day\",\n",
        "                     \"trips\": \"Total number of trips\"\n",
        "                 }\n",
        "            )\n",
        "  st.plotly_chart(plot, use_container_width=True)\n",
        "\n",
        "  st.subheader(\"Check out how Manhattan dominates the trips!\")\n",
        "\n",
        "if __name__ == '__main__':\n",
        "\tmain()"
      ],
      "execution_count": null,
      "outputs": [
        {
          "output_type": "stream",
          "name": "stdout",
          "text": [
            "Overwriting app.py\n"
          ]
        }
      ]
    },
    {
      "cell_type": "code",
      "metadata": {
        "id": "cIm1SKWngLMD",
        "colab": {
          "base_uri": "https://localhost:8080/"
        },
        "outputId": "946fe858-bf87-4a9f-80fa-9cab912064a9"
      },
      "source": [
        "!streamlit run --server.port 80 app.py &>/dev/null&\n",
        "url=ngrok.connect()\n",
        "url"
      ],
      "execution_count": null,
      "outputs": [
        {
          "output_type": "stream",
          "name": "stderr",
          "text": [
            "2021-10-17 06:50:29.753 INFO    pyngrok.ngrok: Opening tunnel named: http-80-d26ad33a-b597-4628-b5c4-dc05cb9cbba2\n",
            "2021-10-17 06:50:29.797 INFO    pyngrok.process.ngrok: t=2021-10-17T06:50:29+0000 lvl=info msg=\"no configuration paths supplied\"\n",
            "2021-10-17 06:50:29.801 INFO    pyngrok.process.ngrok: t=2021-10-17T06:50:29+0000 lvl=info msg=\"using configuration at default config path\" path=/root/.ngrok2/ngrok.yml\n",
            "2021-10-17 06:50:29.806 INFO    pyngrok.process.ngrok: t=2021-10-17T06:50:29+0000 lvl=info msg=\"open config file\" path=/root/.ngrok2/ngrok.yml err=nil\n",
            "2021-10-17 06:50:29.815 INFO    pyngrok.process.ngrok: t=2021-10-17T06:50:29+0000 lvl=info msg=\"starting web service\" obj=web addr=127.0.0.1:4040\n",
            "2021-10-17 06:50:29.980 INFO    pyngrok.process.ngrok: t=2021-10-17T06:50:29+0000 lvl=info msg=\"tunnel session started\" obj=tunnels.session\n",
            "2021-10-17 06:50:29.984 INFO    pyngrok.process.ngrok: t=2021-10-17T06:50:29+0000 lvl=info msg=\"client session established\" obj=csess id=9975962fb753\n",
            "2021-10-17 06:50:29.998 INFO    pyngrok.process.ngrok: t=2021-10-17T06:50:29+0000 lvl=info msg=start pg=/api/tunnels id=a8ea656db4429dfb\n",
            "2021-10-17 06:50:30.001 INFO    pyngrok.process.ngrok: t=2021-10-17T06:50:29+0000 lvl=info msg=end pg=/api/tunnels id=a8ea656db4429dfb status=200 dur=430.668µs\n",
            "2021-10-17 06:50:30.006 INFO    pyngrok.process.ngrok: t=2021-10-17T06:50:29+0000 lvl=info msg=start pg=/api/tunnels id=43e4aea4a68eee26\n",
            "2021-10-17 06:50:30.007 INFO    pyngrok.process.ngrok: t=2021-10-17T06:50:29+0000 lvl=info msg=end pg=/api/tunnels id=43e4aea4a68eee26 status=200 dur=129.201µs\n",
            "2021-10-17 06:50:30.009 INFO    pyngrok.process.ngrok: t=2021-10-17T06:50:29+0000 lvl=info msg=start pg=/api/tunnels id=7d189f9215887ce0\n",
            "2021-10-17 06:50:30.093 INFO    pyngrok.process.ngrok: t=2021-10-17T06:50:30+0000 lvl=info msg=\"started tunnel\" obj=tunnels name=\"http-80-d26ad33a-b597-4628-b5c4-dc05cb9cbba2 (http)\" addr=http://localhost:80 url=http://e754-34-74-78-225.ngrok.io\n",
            "2021-10-17 06:50:30.096 INFO    pyngrok.process.ngrok: t=2021-10-17T06:50:30+0000 lvl=info msg=\"started tunnel\" obj=tunnels name=http-80-d26ad33a-b597-4628-b5c4-dc05cb9cbba2 addr=http://localhost:80 url=https://e754-34-74-78-225.ngrok.io\n",
            "2021-10-17 06:50:30.100 INFO    pyngrok.process.ngrok: t=2021-10-17T06:50:30+0000 lvl=info msg=end pg=/api/tunnels id=7d189f9215887ce0 status=201 dur=95.541704ms\n",
            "2021-10-17 06:50:30.101 INFO    pyngrok.process.ngrok: t=2021-10-17T06:50:30+0000 lvl=info msg=start pg=\"/api/tunnels/http-80-d26ad33a-b597-4628-b5c4-dc05cb9cbba2 (http)\" id=7f6e0ea516b2888f\n"
          ]
        },
        {
          "output_type": "execute_result",
          "data": {
            "text/plain": [
              "<NgrokTunnel: \"http://e754-34-74-78-225.ngrok.io\" -> \"http://localhost:80\">"
            ]
          },
          "metadata": {},
          "execution_count": 51
        },
        {
          "output_type": "stream",
          "name": "stderr",
          "text": [
            "2021-10-17 06:50:30.103 INFO    pyngrok.process.ngrok: t=2021-10-17T06:50:30+0000 lvl=info msg=end pg=\"/api/tunnels/http-80-d26ad33a-b597-4628-b5c4-dc05cb9cbba2 (http)\" id=7f6e0ea516b2888f status=200 dur=164.96µs\n"
          ]
        }
      ]
    },
    {
      "cell_type": "code",
      "metadata": {
        "colab": {
          "base_uri": "https://localhost:8080/"
        },
        "id": "KcvgaS93omiY",
        "outputId": "0875fe8b-0d4b-4269-f148-8f4488b96901"
      },
      "source": [
        "#!killall ngrok"
      ],
      "execution_count": null,
      "outputs": [
        {
          "output_type": "stream",
          "name": "stderr",
          "text": [
            "2021-10-17 06:49:40.095 INFO    pyngrok.process.ngrok: t=2021-10-17T06:49:40+0000 lvl=info msg=\"received stop request\" obj=app stopReq=\"{err:<nil> restart:false}\"\n"
          ]
        }
      ]
    }
  ]
}