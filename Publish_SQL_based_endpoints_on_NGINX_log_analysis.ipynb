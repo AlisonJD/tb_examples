{
  "nbformat": 4,
  "nbformat_minor": 0,
  "metadata": {
    "colab": {
      "name": "Publish_SQL-based_endpoints_on_NGINX_log analysis.ipynb",
      "provenance": [],
      "collapsed_sections": [
        "lhcftG5bo4qX"
      ],
      "toc_visible": true,
      "authorship_tag": "ABX9TyPz13w+8DZP0ZcSqslvMkm+",
      "include_colab_link": true
    },
    "kernelspec": {
      "name": "python3",
      "display_name": "Python 3"
    },
    "language_info": {
      "name": "python"
    }
  },
  "cells": [
    {
      "cell_type": "markdown",
      "metadata": {
        "id": "view-in-github",
        "colab_type": "text"
      },
      "source": [
        "<a href=\"https://colab.research.google.com/github/AlisonJD/tb_examples/blob/main/Publish_SQL_based_endpoints_on_NGINX_log_analysis.ipynb\" target=\"_parent\"><img src=\"https://colab.research.google.com/assets/colab-badge.svg\" alt=\"Open In Colab\"/></a>"
      ]
    },
    {
      "cell_type": "markdown",
      "metadata": {
        "id": "lhcftG5bo4qX"
      },
      "source": [
        "# Publish SQL-based endpoints on NGINX log analysis\n",
        "\n",
        "https://blog.tinybird.co/2021/01/28/nginx-log-analysis/"
      ]
    },
    {
      "cell_type": "code",
      "metadata": {
        "id": "UsilptjKTgcw",
        "colab": {
          "base_uri": "https://localhost:8080/"
        },
        "outputId": "e46f8eb8-7794-4561-8fa0-37cbcdc0ba1f"
      },
      "source": [
        "#@title Mount your Google Drive to save and use local files\n",
        "from google.colab import drive\n",
        "drive.mount('/content/gdrive', force_remount=False)\n",
        "\n",
        "% cd \"/content/gdrive/My Drive/Colab Notebooks/Tinybird/tb_examples\""
      ],
      "execution_count": 1,
      "outputs": [
        {
          "output_type": "stream",
          "text": [
            "Mounted at /content/gdrive\n",
            "/content/gdrive/My Drive/Colab Notebooks/Tinybird/tb_examples\n"
          ],
          "name": "stdout"
        }
      ]
    },
    {
      "cell_type": "code",
      "metadata": {
        "id": "pRpOYp11T94P",
        "colab": {
          "base_uri": "https://localhost:8080/"
        },
        "outputId": "e41ae3b3-c517-4ba8-a96b-85cc44b5c9cb"
      },
      "source": [
        "#@title Install Tinybird CLI and your token\n",
        "!pip install tinybird-cli -q -U\n",
        "\n",
        "!sudo apt-get install jq\n",
        "\n",
        "import os\n",
        "\n",
        "if not os.path.isfile('.tinyb'):\n",
        "  !tb auth\n",
        "\n",
        "if not os.path.isdir('datasources'):\n",
        "  !tb init"
      ],
      "execution_count": 44,
      "outputs": [
        {
          "output_type": "stream",
          "text": [
            "Reading package lists... Done\n",
            "Building dependency tree       \n",
            "Reading state information... Done\n",
            "jq is already the newest version (1.5+dfsg-2).\n",
            "0 upgraded, 0 newly installed, 0 to remove and 40 not upgraded.\n"
          ],
          "name": "stdout"
        }
      ]
    },
    {
      "cell_type": "code",
      "metadata": {
        "id": "PieMAhdNUdNV"
      },
      "source": [
        "#@title Helper function\n",
        "def write_text_to_file(filename, text):\n",
        "  with open(filename, 'w') as f: f.write(text)"
      ],
      "execution_count": 3,
      "outputs": []
    },
    {
      "cell_type": "markdown",
      "metadata": {
        "id": "6ik7672Y9lSJ"
      },
      "source": [
        "# Worked Example from Blog: \n",
        "##Publish SQL-based endpoints on NGINX log analysis\n",
        "\n",
        "Tinybird can be used to analyze datasets like logs.\n",
        "\n",
        "Here we use Tinybird to:\n",
        " - analyze NGINX logs\n",
        " - publish SQL queries as API endpoints\n",
        "\n",
        "We also show you how to model your data sources and endpoints to make it 10X faster.\n"
      ]
    },
    {
      "cell_type": "markdown",
      "metadata": {
        "id": "xIdcjtdg-ns7"
      },
      "source": [
        "## 1. Build a data source from a sample NGINX log"
      ]
    },
    {
      "cell_type": "code",
      "metadata": {
        "colab": {
          "base_uri": "https://localhost:8080/"
        },
        "id": "zQ6EgGIXpYJU",
        "outputId": "319d39ca-c722-4736-d809-e5680bd0c3d9"
      },
      "source": [
        "!tb datasource generate https://raw.githubusercontent.com/tinybirdco/log_parsing_template/main/access.log.csv"
      ],
      "execution_count": null,
      "outputs": [
        {
          "output_type": "stream",
          "text": [
            "\u001b[92m** Generated datasources/access_log.datasource\n",
            "** => Create it on the server running: $ tb push datasources/access_log.datasource\n",
            "** => Append data using: $ tb datasource append access.log https://raw.githubusercontent.com/tinybirdco/log_parsing_template/main/access.log.csv`\n",
            "\u001b[0m\n"
          ],
          "name": "stdout"
        }
      ]
    },
    {
      "cell_type": "code",
      "metadata": {
        "colab": {
          "base_uri": "https://localhost:8080/"
        },
        "id": "N3-uyMHtqB3f",
        "outputId": "a8a09370-acb6-4cfd-d269-f5529aa76ce1"
      },
      "source": [
        "!tb push datasources/access_log.datasource"
      ],
      "execution_count": null,
      "outputs": [
        {
          "output_type": "stream",
          "text": [
            "\u001b[0m** Processing datasources/access_log.datasource\u001b[0m\n",
            "\u001b[0m** Building dependencies\u001b[0m\n",
            "\u001b[0m** Running access_log \u001b[0m\n",
            "\u001b[92m** 'access_log' created\u001b[0m\n",
            "\u001b[0m** Not pushing fixtures\u001b[0m\n"
          ],
          "name": "stdout"
        }
      ]
    },
    {
      "cell_type": "code",
      "metadata": {
        "colab": {
          "base_uri": "https://localhost:8080/"
        },
        "id": "8R1f7Sveqr7M",
        "outputId": "98236a99-4bca-4cc9-de3f-15c7158121f3"
      },
      "source": [
        "!tb datasource append access_log 'https://raw.githubusercontent.com/tinybirdco/log_parsing_template/main/access.log.csv'"
      ],
      "execution_count": null,
      "outputs": [
        {
          "output_type": "stream",
          "text": [
            "\u001b[0m** 🥚 starting import process\u001b[0m\n",
            "\u001b[92m** 🐥 done\u001b[0m\n",
            "\u001b[92m** Total rows in access_log: 67351\u001b[0m\n",
            "\u001b[92m** Data appended to Data Source 'access_log' successfully!\u001b[0m\n",
            "\u001b[0m** Data pushed to access_log\u001b[0m\n"
          ],
          "name": "stdout"
        }
      ]
    },
    {
      "cell_type": "markdown",
      "metadata": {
        "id": "ZJOjzI_ktRKr"
      },
      "source": [
        "Looking at a single record we see that we need to add column names and extract information from columns."
      ]
    },
    {
      "cell_type": "code",
      "metadata": {
        "colab": {
          "base_uri": "https://localhost:8080/"
        },
        "id": "Y4149xmAqww7",
        "outputId": "ab802d07-6801-4eb5-d81d-4b9868f08a32"
      },
      "source": [
        "!tb sql \"select * from access_log limit 1\" --stats"
      ],
      "execution_count": null,
      "outputs": [
        {
          "output_type": "stream",
          "text": [
            "\u001b[0m** Query took 0.000422682 seconds\n",
            "** Rows read: 1\n",
            "** Bytes read: 218 bytes\u001b[0m\n",
            "---------------------------------------------------------------------\n",
            "\u001b[1;32mcolumn_00:\u001b[0m 10.86.160.14\n",
            "\u001b[1;32mcolumn_01:\u001b[0m -\n",
            "\u001b[1;32mcolumn_02:\u001b[0m -\n",
            "\u001b[1;32mcolumn_03:\u001b[0m [19/Jan/2021:06:25:37\n",
            "\u001b[1;32mcolumn_04:\u001b[0m +0000]\n",
            "\u001b[1;32mcolumn_05:\u001b[0m GET /v0/pipes/pro__ct___v0.json?id_c=18&token=XYZ HTTP/1.1\n",
            "\u001b[1;32mcolumn_06:\u001b[0m 200\n",
            "\u001b[1;32mcolumn_07:\u001b[0m 455\n",
            "\u001b[1;32mcolumn_08:\u001b[0m -\n",
            "\u001b[1;32mcolumn_09:\u001b[0m Apache-HttpClient/4.5.10 (Java/11.0.8)\n",
            "---------------------------------------------------------------------\n"
          ],
          "name": "stdout"
        }
      ]
    },
    {
      "cell_type": "markdown",
      "metadata": {
        "id": "obUAO9NRtigF"
      },
      "source": [
        "Let's do that with a pipe:"
      ]
    },
    {
      "cell_type": "code",
      "metadata": {
        "id": "awChfkXEruZ8",
        "colab": {
          "base_uri": "https://localhost:8080/"
        },
        "outputId": "0108acf7-ee03-4460-dbf7-e55ffadccef6"
      },
      "source": [
        "filename=\"pipes/access_log_transform.pipe\"\n",
        "text='''\n",
        "DESCRIPTION extract column data from raw access log and name columns\n",
        "NODE extract_column_data\n",
        "SQL >\n",
        "    select\n",
        "        IPv4StringToNum(column_00) as ip,\n",
        "        parseDateTimeBestEffort(replaceOne(substring(column_03, 2), ':', ' ')) as time,\n",
        "        splitByChar(' ', column_05) as tt,\n",
        "        tt[1] as method,\n",
        "        tt[2] as path,\n",
        "        tt[3] as protocol,\n",
        "        column_06 as status_code,\n",
        "        column_07 as bytes,\n",
        "        column_09 as user_agent\n",
        "    from access_log\n",
        "'''\n",
        "\n",
        "write_text_to_file(filename, text)\n",
        "\n",
        "!tb push pipes/access_log_transform.pipe"
      ],
      "execution_count": 7,
      "outputs": [
        {
          "output_type": "stream",
          "text": [
            "\u001b[0m** Processing pipes/access_log_transform.pipe\u001b[0m\n",
            "\u001b[0m** Building dependencies\u001b[0m\n",
            "\u001b[0m** Running access_log_transform \u001b[0m\n",
            "\u001b[92m** => Test endpoint at https://api.tinybird.co/v0/pipes/access_log_transform.json\u001b[0m\n",
            "\u001b[92m** 'access_log_transform' created\u001b[0m\n",
            "\u001b[0m** Not pushing fixtures\u001b[0m\n"
          ],
          "name": "stdout"
        }
      ]
    },
    {
      "cell_type": "code",
      "metadata": {
        "colab": {
          "base_uri": "https://localhost:8080/"
        },
        "id": "LnE4QKa6tKM7",
        "outputId": "889de00b-fc6c-40f3-b53b-e78c2fe1ae99"
      },
      "source": [
        "!tb sql \"select * from access_log_transform limit 1\" --stats"
      ],
      "execution_count": null,
      "outputs": [
        {
          "output_type": "stream",
          "text": [
            "\u001b[0m** Query took 0.000828297 seconds\n",
            "** Rows read: 2,004\n",
            "** Bytes read: 472.33 KB\u001b[0m\n",
            "---------------------------------\n",
            "\u001b[1;32mip:\u001b[0m 1382418444\n",
            "\u001b[1;32mtime:\u001b[0m 2021-01-19 11:48:24\n",
            "\u001b[1;32mtt:\u001b[0m ['GET', '/', 'HTTP/1.1']\n",
            "\u001b[1;32mmethod:\u001b[0m GET\n",
            "\u001b[1;32mpath:\u001b[0m /\n",
            "\u001b[1;32mprotocol:\u001b[0m HTTP/1.1\n",
            "\u001b[1;32mstatus_code:\u001b[0m 301\n",
            "\u001b[1;32mbytes:\u001b[0m 194\n",
            "\u001b[1;32muser_agent:\u001b[0m Mozilla/5.0 zgrab/0.x\n",
            "---------------------------------\n"
          ],
          "name": "stdout"
        }
      ]
    },
    {
      "cell_type": "markdown",
      "metadata": {
        "id": "FpZwoHWHuGdi"
      },
      "source": [
        "## 2. Publish an API Endpoint\n",
        "Here we show the number of requests and average bytes for each IP address."
      ]
    },
    {
      "cell_type": "code",
      "metadata": {
        "colab": {
          "base_uri": "https://localhost:8080/"
        },
        "id": "Lat5CurctihD",
        "outputId": "ca33899a-35f9-488e-a5a8-b4771b73d8ab"
      },
      "source": [
        "filename=\"pipes/requests_per_endpoint.pipe\"\n",
        "text='''\n",
        "DESCRIPTION requests per endpoint\n",
        "NODE grouping\n",
        "SQL >\n",
        "    %\n",
        "    SELECT\n",
        "        ip,\n",
        "        count() AS request_count,\n",
        "        avg(bytes) as avg_bytes\n",
        "    FROM access_log_transform\n",
        "    GROUP BY ip\n",
        "    ORDER BY request_count DESC\n",
        "\n",
        "NODE endpoint\n",
        "SQL >\n",
        "    select IPv4NumToString(ip) as ip_address,\n",
        "           request_count,\n",
        "           avg_bytes\n",
        "    from grouping\n",
        "'''\n",
        "\n",
        "write_text_to_file(filename, text)\n",
        "\n",
        "!tb push pipes/requests_per_endpoint.pipe"
      ],
      "execution_count": 10,
      "outputs": [
        {
          "output_type": "stream",
          "text": [
            "\u001b[0m** Processing pipes/requests_per_endpoint.pipe\u001b[0m\n",
            "\u001b[0m** Building dependencies\u001b[0m\n",
            "\u001b[0m** Running requests_per_endpoint \u001b[0m\n",
            "\u001b[92m** => Test endpoint at https://api.tinybird.co/v0/pipes/requests_per_endpoint.json\u001b[0m\n",
            "\u001b[92m** 'requests_per_endpoint' created\u001b[0m\n",
            "\u001b[0m** Not pushing fixtures\u001b[0m\n"
          ],
          "name": "stdout"
        }
      ]
    },
    {
      "cell_type": "code",
      "metadata": {
        "colab": {
          "base_uri": "https://localhost:8080/"
        },
        "id": "aWt9tPy1vWEK",
        "outputId": "321a7378-325d-457a-f256-6be0061a5f8c"
      },
      "source": [
        "!curl https://api.tinybird.co/v0/pipes/requests_per_endpoint.json?token=$TOKEN"
      ],
      "execution_count": 31,
      "outputs": [
        {
          "output_type": "stream",
          "text": [
            "{\n",
            "\t\"meta\":\n",
            "\t[\n",
            "\t\t{\n",
            "\t\t\t\"name\": \"ip_address\",\n",
            "\t\t\t\"type\": \"String\"\n",
            "\t\t},\n",
            "\t\t{\n",
            "\t\t\t\"name\": \"request_count\",\n",
            "\t\t\t\"type\": \"UInt64\"\n",
            "\t\t},\n",
            "\t\t{\n",
            "\t\t\t\"name\": \"avg_bytes\",\n",
            "\t\t\t\"type\": \"Float64\"\n",
            "\t\t}\n",
            "\t],\n",
            "\n",
            "\t\"data\":\n",
            "\t[\n",
            "\t\t{\n",
            "\t\t\t\"ip_address\": \"10.86.160.21\",\n",
            "\t\t\t\"request_count\": 39624,\n",
            "\t\t\t\"avg_bytes\": 438.6311326468807\n",
            "\t\t},\n",
            "\t\t{\n",
            "\t\t\t\"ip_address\": \"10.86.160.20\",\n",
            "\t\t\t\"request_count\": 21376,\n",
            "\t\t\t\"avg_bytes\": 438.7071014221557\n",
            "\t\t},\n",
            "\t\t{\n",
            "\t\t\t\"ip_address\": \"10.86.160.24\",\n",
            "\t\t\t\"request_count\": 646,\n",
            "\t\t\t\"avg_bytes\": 746.1099071207431\n",
            "\t\t},\n",
            "\t\t{\n",
            "\t\t\t\"ip_address\": \"10.86.160.25\",\n",
            "\t\t\t\"request_count\": 616,\n",
            "\t\t\t\"avg_bytes\": 1068.237012987013\n",
            "\t\t},\n",
            "\t\t{\n",
            "\t\t\t\"ip_address\": \"10.86.160.15\",\n",
            "\t\t\t\"request_count\": 612,\n",
            "\t\t\t\"avg_bytes\": 867.1470588235294\n",
            "\t\t},\n",
            "\t\t{\n",
            "\t\t\t\"ip_address\": \"10.86.160.26\",\n",
            "\t\t\t\"request_count\": 606,\n",
            "\t\t\t\"avg_bytes\": 864.1518151815181\n",
            "\t\t},\n",
            "\t\t{\n",
            "\t\t\t\"ip_address\": \"10.86.160.28\",\n",
            "\t\t\t\"request_count\": 604,\n",
            "\t\t\t\"avg_bytes\": 594.9105960264901\n",
            "\t\t},\n",
            "\t\t{\n",
            "\t\t\t\"ip_address\": \"10.86.160.27\",\n",
            "\t\t\t\"request_count\": 579,\n",
            "\t\t\t\"avg_bytes\": 1031.9015544041451\n",
            "\t\t},\n",
            "\t\t{\n",
            "\t\t\t\"ip_address\": \"10.86.160.14\",\n",
            "\t\t\t\"request_count\": 538,\n",
            "\t\t\t\"avg_bytes\": 932.5055762081785\n",
            "\t\t},\n",
            "\t\t{\n",
            "\t\t\t\"ip_address\": \"35.203.129.73\",\n",
            "\t\t\t\"request_count\": 71,\n",
            "\t\t\t\"avg_bytes\": 56\n",
            "\t\t},\n",
            "\t\t{\n",
            "\t\t\t\"ip_address\": \"35.10.128.75\",\n",
            "\t\t\t\"request_count\": 67,\n",
            "\t\t\t\"avg_bytes\": 56\n",
            "\t\t},\n",
            "\t\t{\n",
            "\t\t\t\"ip_address\": \"10.86.160.32\",\n",
            "\t\t\t\"request_count\": 67,\n",
            "\t\t\t\"avg_bytes\": 47936.58208955224\n",
            "\t\t},\n",
            "\t\t{\n",
            "\t\t\t\"ip_address\": \"35.185.178.105\",\n",
            "\t\t\t\"request_count\": 66,\n",
            "\t\t\t\"avg_bytes\": 56\n",
            "\t\t},\n",
            "\t\t{\n",
            "\t\t\t\"ip_address\": \"35.198.194.122\",\n",
            "\t\t\t\"request_count\": 63,\n",
            "\t\t\t\"avg_bytes\": 56\n",
            "\t\t},\n",
            "\t\t{\n",
            "\t\t\t\"ip_address\": \"35.199.12.162\",\n",
            "\t\t\t\"request_count\": 63,\n",
            "\t\t\t\"avg_bytes\": 56\n",
            "\t\t},\n",
            "\t\t{\n",
            "\t\t\t\"ip_address\": \"35.198.36.209\",\n",
            "\t\t\t\"request_count\": 61,\n",
            "\t\t\t\"avg_bytes\": 56\n",
            "\t\t},\n",
            "\t\t{\n",
            "\t\t\t\"ip_address\": \"35.239.194.85\",\n",
            "\t\t\t\"request_count\": 61,\n",
            "\t\t\t\"avg_bytes\": 56\n",
            "\t\t},\n",
            "\t\t{\n",
            "\t\t\t\"ip_address\": \"35.224.249.156\",\n",
            "\t\t\t\"request_count\": 59,\n",
            "\t\t\t\"avg_bytes\": 56\n",
            "\t\t},\n",
            "\t\t{\n",
            "\t\t\t\"ip_address\": \"35.236.221.2\",\n",
            "\t\t\t\"request_count\": 59,\n",
            "\t\t\t\"avg_bytes\": 56\n",
            "\t\t},\n",
            "\t\t{\n",
            "\t\t\t\"ip_address\": \"35.233.167.246\",\n",
            "\t\t\t\"request_count\": 59,\n",
            "\t\t\t\"avg_bytes\": 56\n",
            "\t\t},\n",
            "\t\t{\n",
            "\t\t\t\"ip_address\": \"35.187.114.193\",\n",
            "\t\t\t\"request_count\": 58,\n",
            "\t\t\t\"avg_bytes\": 56\n",
            "\t\t},\n",
            "\t\t{\n",
            "\t\t\t\"ip_address\": \"35.198.224.104\",\n",
            "\t\t\t\"request_count\": 58,\n",
            "\t\t\t\"avg_bytes\": 56\n",
            "\t\t},\n",
            "\t\t{\n",
            "\t\t\t\"ip_address\": \"35.199.86.186\",\n",
            "\t\t\t\"request_count\": 58,\n",
            "\t\t\t\"avg_bytes\": 56\n",
            "\t\t},\n",
            "\t\t{\n",
            "\t\t\t\"ip_address\": \"35.233.165.146\",\n",
            "\t\t\t\"request_count\": 58,\n",
            "\t\t\t\"avg_bytes\": 56\n",
            "\t\t},\n",
            "\t\t{\n",
            "\t\t\t\"ip_address\": \"35.205.72.231\",\n",
            "\t\t\t\"request_count\": 57,\n",
            "\t\t\t\"avg_bytes\": 56\n",
            "\t\t},\n",
            "\t\t{\n",
            "\t\t\t\"ip_address\": \"35.236.207.68\",\n",
            "\t\t\t\"request_count\": 57,\n",
            "\t\t\t\"avg_bytes\": 56\n",
            "\t\t},\n",
            "\t\t{\n",
            "\t\t\t\"ip_address\": \"35.199.90.14\",\n",
            "\t\t\t\"request_count\": 57,\n",
            "\t\t\t\"avg_bytes\": 56\n",
            "\t\t},\n",
            "\t\t{\n",
            "\t\t\t\"ip_address\": \"35.198.39.162\",\n",
            "\t\t\t\"request_count\": 56,\n",
            "\t\t\t\"avg_bytes\": 56\n",
            "\t\t},\n",
            "\t\t{\n",
            "\t\t\t\"ip_address\": \"104.197.30.241\",\n",
            "\t\t\t\"request_count\": 55,\n",
            "\t\t\t\"avg_bytes\": 56\n",
            "\t\t},\n",
            "\t\t{\n",
            "\t\t\t\"ip_address\": \"35.185.252.44\",\n",
            "\t\t\t\"request_count\": 54,\n",
            "\t\t\t\"avg_bytes\": 56\n",
            "\t\t},\n",
            "\t\t{\n",
            "\t\t\t\"ip_address\": \"35.186.167.85\",\n",
            "\t\t\t\"request_count\": 53,\n",
            "\t\t\t\"avg_bytes\": 56\n",
            "\t\t},\n",
            "\t\t{\n",
            "\t\t\t\"ip_address\": \"35.192.92.84\",\n",
            "\t\t\t\"request_count\": 53,\n",
            "\t\t\t\"avg_bytes\": 56\n",
            "\t\t},\n",
            "\t\t{\n",
            "\t\t\t\"ip_address\": \"35.238.118.210\",\n",
            "\t\t\t\"request_count\": 53,\n",
            "\t\t\t\"avg_bytes\": 56\n",
            "\t\t},\n",
            "\t\t{\n",
            "\t\t\t\"ip_address\": \"35.186.176.31\",\n",
            "\t\t\t\"request_count\": 53,\n",
            "\t\t\t\"avg_bytes\": 56\n",
            "\t\t},\n",
            "\t\t{\n",
            "\t\t\t\"ip_address\": \"35.205.234.10\",\n",
            "\t\t\t\"request_count\": 53,\n",
            "\t\t\t\"avg_bytes\": 56\n",
            "\t\t},\n",
            "\t\t{\n",
            "\t\t\t\"ip_address\": \"35.240.124.58\",\n",
            "\t\t\t\"request_count\": 52,\n",
            "\t\t\t\"avg_bytes\": 56\n",
            "\t\t},\n",
            "\t\t{\n",
            "\t\t\t\"ip_address\": \"35.238.3.7\",\n",
            "\t\t\t\"request_count\": 51,\n",
            "\t\t\t\"avg_bytes\": 56\n",
            "\t\t},\n",
            "\t\t{\n",
            "\t\t\t\"ip_address\": \"35.199.123.150\",\n",
            "\t\t\t\"request_count\": 51,\n",
            "\t\t\t\"avg_bytes\": 56\n",
            "\t\t},\n",
            "\t\t{\n",
            "\t\t\t\"ip_address\": \"35.240.151.105\",\n",
            "\t\t\t\"request_count\": 50,\n",
            "\t\t\t\"avg_bytes\": 56\n",
            "\t\t},\n",
            "\t\t{\n",
            "\t\t\t\"ip_address\": \"35.199.126.168\",\n",
            "\t\t\t\"request_count\": 49,\n",
            "\t\t\t\"avg_bytes\": 56\n",
            "\t\t},\n",
            "\t\t{\n",
            "\t\t\t\"ip_address\": \"35.186.159.51\",\n",
            "\t\t\t\"request_count\": 48,\n",
            "\t\t\t\"avg_bytes\": 56\n",
            "\t\t},\n",
            "\t\t{\n",
            "\t\t\t\"ip_address\": \"35.221.55.249\",\n",
            "\t\t\t\"request_count\": 47,\n",
            "\t\t\t\"avg_bytes\": 56\n",
            "\t\t},\n",
            "\t\t{\n",
            "\t\t\t\"ip_address\": \"35.198.248.66\",\n",
            "\t\t\t\"request_count\": 47,\n",
            "\t\t\t\"avg_bytes\": 56\n",
            "\t\t},\n",
            "\t\t{\n",
            "\t\t\t\"ip_address\": \"35.197.32.224\",\n",
            "\t\t\t\"request_count\": 46,\n",
            "\t\t\t\"avg_bytes\": 56\n",
            "\t\t},\n",
            "\t\t{\n",
            "\t\t\t\"ip_address\": \"35.205.205.242\",\n",
            "\t\t\t\"request_count\": 45,\n",
            "\t\t\t\"avg_bytes\": 56\n",
            "\t\t},\n",
            "\t\t{\n",
            "\t\t\t\"ip_address\": \"35.233.206.171\",\n",
            "\t\t\t\"request_count\": 44,\n",
            "\t\t\t\"avg_bytes\": 56\n",
            "\t\t},\n",
            "\t\t{\n",
            "\t\t\t\"ip_address\": \"95.62.97.46\",\n",
            "\t\t\t\"request_count\": 35,\n",
            "\t\t\t\"avg_bytes\": 454.57142857142856\n",
            "\t\t},\n",
            "\t\t{\n",
            "\t\t\t\"ip_address\": \"85.208.98.25\",\n",
            "\t\t\t\"request_count\": 15,\n",
            "\t\t\t\"avg_bytes\": 295.93333333333334\n",
            "\t\t},\n",
            "\t\t{\n",
            "\t\t\t\"ip_address\": \"82.102.8.12\",\n",
            "\t\t\t\"request_count\": 5,\n",
            "\t\t\t\"avg_bytes\": 1219.8\n",
            "\t\t},\n",
            "\t\t{\n",
            "\t\t\t\"ip_address\": \"192.35.168.112\",\n",
            "\t\t\t\"request_count\": 3,\n",
            "\t\t\t\"avg_bytes\": 1048.6666666666667\n",
            "\t\t},\n",
            "\t\t{\n",
            "\t\t\t\"ip_address\": \"143.110.249.140\",\n",
            "\t\t\t\"request_count\": 3,\n",
            "\t\t\t\"avg_bytes\": 194\n",
            "\t\t},\n",
            "\t\t{\n",
            "\t\t\t\"ip_address\": \"128.14.209.242\",\n",
            "\t\t\t\"request_count\": 2,\n",
            "\t\t\t\"avg_bytes\": 97\n",
            "\t\t},\n",
            "\t\t{\n",
            "\t\t\t\"ip_address\": \"192.99.13.228\",\n",
            "\t\t\t\"request_count\": 2,\n",
            "\t\t\t\"avg_bytes\": 1510\n",
            "\t\t},\n",
            "\t\t{\n",
            "\t\t\t\"ip_address\": \"128.14.134.134\",\n",
            "\t\t\t\"request_count\": 2,\n",
            "\t\t\t\"avg_bytes\": 1475.5\n",
            "\t\t},\n",
            "\t\t{\n",
            "\t\t\t\"ip_address\": \"157.55.39.235\",\n",
            "\t\t\t\"request_count\": 2,\n",
            "\t\t\t\"avg_bytes\": 2553.5\n",
            "\t\t},\n",
            "\t\t{\n",
            "\t\t\t\"ip_address\": \"129.146.190.190\",\n",
            "\t\t\t\"request_count\": 2,\n",
            "\t\t\t\"avg_bytes\": 194\n",
            "\t\t},\n",
            "\t\t{\n",
            "\t\t\t\"ip_address\": \"193.32.164.26\",\n",
            "\t\t\t\"request_count\": 2,\n",
            "\t\t\t\"avg_bytes\": 166\n",
            "\t\t},\n",
            "\t\t{\n",
            "\t\t\t\"ip_address\": \"52.247.201.54\",\n",
            "\t\t\t\"request_count\": 2,\n",
            "\t\t\t\"avg_bytes\": 1476\n",
            "\t\t},\n",
            "\t\t{\n",
            "\t\t\t\"ip_address\": \"172.105.86.209\",\n",
            "\t\t\t\"request_count\": 2,\n",
            "\t\t\t\"avg_bytes\": 174\n",
            "\t\t},\n",
            "\t\t{\n",
            "\t\t\t\"ip_address\": \"89.248.168.108\",\n",
            "\t\t\t\"request_count\": 2,\n",
            "\t\t\t\"avg_bytes\": 0\n",
            "\t\t},\n",
            "\t\t{\n",
            "\t\t\t\"ip_address\": \"193.118.53.202\",\n",
            "\t\t\t\"request_count\": 2,\n",
            "\t\t\t\"avg_bytes\": 1476\n",
            "\t\t},\n",
            "\t\t{\n",
            "\t\t\t\"ip_address\": \"209.17.96.82\",\n",
            "\t\t\t\"request_count\": 1,\n",
            "\t\t\t\"avg_bytes\": 0\n",
            "\t\t},\n",
            "\t\t{\n",
            "\t\t\t\"ip_address\": \"92.112.0.29\",\n",
            "\t\t\t\"request_count\": 1,\n",
            "\t\t\t\"avg_bytes\": 194\n",
            "\t\t},\n",
            "\t\t{\n",
            "\t\t\t\"ip_address\": \"89.248.170.31\",\n",
            "\t\t\t\"request_count\": 1,\n",
            "\t\t\t\"avg_bytes\": 194\n",
            "\t\t},\n",
            "\t\t{\n",
            "\t\t\t\"ip_address\": \"54.36.148.243\",\n",
            "\t\t\t\"request_count\": 1,\n",
            "\t\t\t\"avg_bytes\": 86\n",
            "\t\t},\n",
            "\t\t{\n",
            "\t\t\t\"ip_address\": \"128.14.209.226\",\n",
            "\t\t\t\"request_count\": 1,\n",
            "\t\t\t\"avg_bytes\": 0\n",
            "\t\t},\n",
            "\t\t{\n",
            "\t\t\t\"ip_address\": \"188.17.51.44\",\n",
            "\t\t\t\"request_count\": 1,\n",
            "\t\t\t\"avg_bytes\": 194\n",
            "\t\t},\n",
            "\t\t{\n",
            "\t\t\t\"ip_address\": \"54.36.148.236\",\n",
            "\t\t\t\"request_count\": 1,\n",
            "\t\t\t\"avg_bytes\": 2155\n",
            "\t\t},\n",
            "\t\t{\n",
            "\t\t\t\"ip_address\": \"45.229.54.146\",\n",
            "\t\t\t\"request_count\": 1,\n",
            "\t\t\t\"avg_bytes\": 194\n",
            "\t\t},\n",
            "\t\t{\n",
            "\t\t\t\"ip_address\": \"206.189.130.116\",\n",
            "\t\t\t\"request_count\": 1,\n",
            "\t\t\t\"avg_bytes\": 194\n",
            "\t\t},\n",
            "\t\t{\n",
            "\t\t\t\"ip_address\": \"209.141.60.10\",\n",
            "\t\t\t\"request_count\": 1,\n",
            "\t\t\t\"avg_bytes\": 264\n",
            "\t\t}\n",
            "\t],\n",
            "\n",
            "\t\"rows\": 71,\n",
            "\n",
            "\t\"statistics\":\n",
            "\t{\n",
            "\t\t\"elapsed\": 0.002832847,\n",
            "\t\t\"rows_read\": 67351,\n",
            "\t\t\"bytes_read\": 1686164\n",
            "\t}\n",
            "}\n"
          ],
          "name": "stdout"
        }
      ]
    },
    {
      "cell_type": "markdown",
      "metadata": {
        "id": "BEZRnohMyAmg"
      },
      "source": [
        "## 3. Publish an API Endpoint using a Materialized View\n",
        "If we had millions of entries a day, the generated endpoints wouldn’t be as fast as needed. For endpoints serving real time dashboards, where the user can pick different date ranges, add filters and so on, it is unacceptable to wait. An easy solution is to generate materialized views."
      ]
    },
    {
      "cell_type": "code",
      "metadata": {
        "id": "IyzPSWTyvWhT"
      },
      "source": [
        "filename=\"pipes/requests_per_endpoint_mv.pipe\"\n",
        "text='''\n",
        "DESCRIPTION materialized view\n",
        "NODE matview\n",
        "SQL >\n",
        "    SELECT\n",
        "        ip,\n",
        "        countState() AS request_count,\n",
        "        avgState(bytes) as avg_bytes\n",
        "    FROM access_log_transform\n",
        "    GROUP BY ip\n",
        "\n",
        "TYPE Materialized\n",
        "DATASOURCE requests_per_endpoint_ds\n",
        "'''\n",
        "\n",
        "write_text_to_file(filename, text)\n",
        "\n",
        "filename=\"datasources/requests_per_endpoint_ds.datasource\"\n",
        "text='''\n",
        "DESCRIPTION materialized view\n",
        "SCHEMA >\n",
        "    ip UInt32,\n",
        "    request_count AggregateFunction(count),\n",
        "    avg_bytes AggregateFunction(avg, Int32)\n",
        "\n",
        "ENGINE AggregatingMergeTree\n",
        "ENGINE_SORTING_KEY ip\n",
        "'''\n",
        "\n",
        "write_text_to_file(filename, text)"
      ],
      "execution_count": 32,
      "outputs": []
    },
    {
      "cell_type": "markdown",
      "metadata": {
        "id": "SKgOaFo6zS0v"
      },
      "source": [
        "- The materialized view pipe uses `countState` and `avgState` for the intermediate states. The data source has `AggregateFunction` data types to store those intermediate states.\n",
        "- The Engine is not the regular `MergeTree` but instead an `AggregatingMergeTree` that tells ClickHouse to aggregate columns on merge operations.\n",
        "- The sorting key tells ClickHouse which column is used for grouping.\n"
      ]
    },
    {
      "cell_type": "code",
      "metadata": {
        "colab": {
          "base_uri": "https://localhost:8080/"
        },
        "id": "dHQl2sQYw8fe",
        "outputId": "e1708263-0938-43ab-8ecd-e3e57621e221"
      },
      "source": [
        "!tb push pipes/requests_per_endpoint_mv.pipe --push-deps --populate"
      ],
      "execution_count": null,
      "outputs": [
        {
          "output_type": "stream",
          "text": [
            "\u001b[0m** Processing pipes/requests_per_endpoint_mv.pipe\u001b[0m\n",
            "\u001b[0m** Processing pipes/access_log_transform.pipe\u001b[0m\n",
            "\u001b[0m** Processing datasources/access_log.datasource\u001b[0m\n",
            "\u001b[0m** Processing datasources/requests_per_endpoint_ds.datasource\u001b[0m\n",
            "\u001b[0m** Building dependencies\u001b[0m\n",
            "\u001b[93m** Warning: access_log already exists, skipping\u001b[0m\n",
            "\u001b[0m** Running requests_per_endpoint_ds \u001b[0m\n",
            "\u001b[92m** 'requests_per_endpoint_ds' created\u001b[0m\n",
            "\u001b[93m** Warning: access_log_transform already exists, skipping\u001b[0m\n",
            "\u001b[0m** Running requests_per_endpoint_mv \u001b[0m\n",
            "\u001b[0m** Materialized node 'matview' used the Data Source 'requests_per_endpoint_ds'\u001b[0m\n",
            "\u001b[0m** Populating job url https://api.tinybird.co/v0/jobs/d0c52be0-77a6-4b71-bdd8-4ff48ebde6ba\u001b[0m\n",
            "\u001b[92m** 'requests_per_endpoint_mv' created\u001b[0m\n",
            "\u001b[0m** Not pushing fixtures\u001b[0m\n"
          ],
          "name": "stdout"
        }
      ]
    },
    {
      "cell_type": "markdown",
      "metadata": {
        "id": "ydkkDU6D0-gZ"
      },
      "source": [
        "- `--push-deps` uploads all the dependencies\n",
        "- `--populate` loads the materialized view with the data already in `access_log_transform`"
      ]
    },
    {
      "cell_type": "code",
      "metadata": {
        "colab": {
          "base_uri": "https://localhost:8080/"
        },
        "id": "hQdA8lBRxCLt",
        "outputId": "c91cd3eb-912a-4de1-966d-71a7d6c07dd2"
      },
      "source": [
        "!tb sql \"select count() from requests_per_endpoint_ds\" --stats"
      ],
      "execution_count": 34,
      "outputs": [
        {
          "output_type": "stream",
          "text": [
            "\u001b[0m** Query took 0.00032799 seconds\n",
            "** Rows read: 1\n",
            "** Bytes read: 4.1 KB\u001b[0m\n",
            "-----------\n",
            "| \u001b[1;32mcount()\u001b[0m |\n",
            "-----------\n",
            "|      71 |\n",
            "-----------\n"
          ],
          "name": "stdout"
        }
      ]
    },
    {
      "cell_type": "code",
      "metadata": {
        "colab": {
          "base_uri": "https://localhost:8080/"
        },
        "id": "OADLuFzOx6Iw",
        "outputId": "af7a2b94-0c25-4b14-89f3-696b7114e686"
      },
      "source": [
        "!tb sql \"select count() from access_log_transform\" --stats"
      ],
      "execution_count": 35,
      "outputs": [
        {
          "output_type": "stream",
          "text": [
            "\u001b[0m** Query took 0.003751284 seconds\n",
            "** Rows read: 67,351\n",
            "** Bytes read: 1.42 MB\u001b[0m\n",
            "-----------\n",
            "| \u001b[1;32mcount()\u001b[0m |\n",
            "-----------\n",
            "|   67351 |\n",
            "-----------\n"
          ],
          "name": "stdout"
        }
      ]
    },
    {
      "cell_type": "markdown",
      "metadata": {
        "id": "rJ06-Iky1qqs"
      },
      "source": [
        "If we push new data with new IP addresses, the number of rows will rise but if we compare this to the number of rows in the original table, working with this view will be much faster.\n",
        "\n",
        "Note that this view is updated when you append new data, it does not need to recalculate with all the data - thanks to the intermediate states."
      ]
    },
    {
      "cell_type": "code",
      "metadata": {
        "colab": {
          "base_uri": "https://localhost:8080/"
        },
        "id": "4i15FqUoyGCU",
        "outputId": "f04fecf4-9b19-454d-faf6-4ad6867b9f38"
      },
      "source": [
        "filename=\"pipes/requests_per_endpoint_fast.pipe\"\n",
        "text='''\n",
        "DESCRIPTION requests per endpoint fast\n",
        "NODE grouping\n",
        "SQL >\n",
        "    %\n",
        "    SELECT\n",
        "        ip,\n",
        "        countMerge(request_count) AS request_count,\n",
        "        avgMerge(avg_bytes) as avg_bytes\n",
        "    FROM requests_per_endpoint_ds\n",
        "    GROUP BY ip\n",
        "    ORDER BY request_count DESC\n",
        "\n",
        "NODE endpoint\n",
        "SQL >\n",
        "    select IPv4NumToString(ip) as ip_address,\n",
        "           request_count,\n",
        "           avg_bytes\n",
        "    from grouping\n",
        "'''\n",
        "\n",
        "write_text_to_file(filename, text)\n",
        "\n",
        "!tb push pipes/requests_per_endpoint_fast.pipe --force --no-check"
      ],
      "execution_count": 36,
      "outputs": [
        {
          "output_type": "stream",
          "text": [
            "\u001b[0m** Processing pipes/requests_per_endpoint_fast.pipe\u001b[0m\n",
            "\u001b[0m** Building dependencies\u001b[0m\n",
            "\u001b[0m** Running requests_per_endpoint_fast \u001b[0m\n",
            "\u001b[92m** => Test endpoint at https://api.tinybird.co/v0/pipes/requests_per_endpoint_fast.json\u001b[0m\n",
            "\u001b[92m** 'requests_per_endpoint_fast' created\u001b[0m\n",
            "\u001b[0m** Not pushing fixtures\u001b[0m\n"
          ],
          "name": "stdout"
        }
      ]
    },
    {
      "cell_type": "code",
      "metadata": {
        "colab": {
          "base_uri": "https://localhost:8080/"
        },
        "id": "UphDa2N4zFAP",
        "outputId": "4d8bebcc-3bbc-4174-ff67-9f67c6d3e9fa"
      },
      "source": [
        "!curl https://api.tinybird.co/v0/pipes/requests_per_endpoint.json\\?token\\=$TOKEN | jq .statistics"
      ],
      "execution_count": 42,
      "outputs": [
        {
          "output_type": "stream",
          "text": [
            "  % Total    % Received % Xferd  Average Speed   Time    Time     Time  Current\n",
            "                                 Dload  Upload   Total   Spent    Left  Speed\n",
            "100  6631  100  6631    0     0  11033      0 --:--:-- --:--:-- --:--:-- 11033\n",
            "\u001b[1;39m{\n",
            "  \u001b[0m\u001b[34;1m\"elapsed\"\u001b[0m\u001b[1;39m: \u001b[0m\u001b[0;39m0.002717281\u001b[0m\u001b[1;39m,\n",
            "  \u001b[0m\u001b[34;1m\"rows_read\"\u001b[0m\u001b[1;39m: \u001b[0m\u001b[0;39m67351\u001b[0m\u001b[1;39m,\n",
            "  \u001b[0m\u001b[34;1m\"bytes_read\"\u001b[0m\u001b[1;39m: \u001b[0m\u001b[0;39m1686164\u001b[0m\u001b[1;39m\n",
            "\u001b[1;39m}\u001b[0m\n"
          ],
          "name": "stdout"
        }
      ]
    },
    {
      "cell_type": "code",
      "metadata": {
        "colab": {
          "base_uri": "https://localhost:8080/"
        },
        "id": "gohayO4Uzmbq",
        "outputId": "03406384-a0d1-4cda-8d69-41e09eabf860"
      },
      "source": [
        "!curl https://api.tinybird.co/v0/pipes/requests_per_endpoint_fast.json\\?token\\=$TOKEN | jq .statistics"
      ],
      "execution_count": 43,
      "outputs": [
        {
          "output_type": "stream",
          "text": [
            "  % Total    % Received % Xferd  Average Speed   Time    Time     Time  Current\n",
            "                                 Dload  Upload   Total   Spent    Left  Speed\n",
            "100  6626  100  6626    0     0  11424      0 --:--:-- --:--:-- --:--:-- 11404\n",
            "\u001b[1;39m{\n",
            "  \u001b[0m\u001b[34;1m\"elapsed\"\u001b[0m\u001b[1;39m: \u001b[0m\u001b[0;39m0.000686001\u001b[0m\u001b[1;39m,\n",
            "  \u001b[0m\u001b[34;1m\"rows_read\"\u001b[0m\u001b[1;39m: \u001b[0m\u001b[0;39m71\u001b[0m\u001b[1;39m,\n",
            "  \u001b[0m\u001b[34;1m\"bytes_read\"\u001b[0m\u001b[1;39m: \u001b[0m\u001b[0;39m17804\u001b[0m\u001b[1;39m\n",
            "\u001b[1;39m}\u001b[0m\n"
          ],
          "name": "stdout"
        }
      ]
    },
    {
      "cell_type": "markdown",
      "metadata": {
        "id": "7fAKb9ci36c2"
      },
      "source": [
        "The new API endpoint using the materialized view is faster and reads far less data.\n",
        "\n",
        "Materialized views could be used for:\n",
        "\n",
        "- unique ip addreeses by day: \n",
        "```\n",
        "select toDate(time) day, uniqState(ip_address) uniq_ip \n",
        "from access_log \n",
        "group by day\n",
        "```\n",
        "- percentile 95 of payload size per hour:\n",
        "```\n",
        "select toStartOfHour(time) hour, quantileState(0.95)(ip_address) q95\n",
        "from access_log_transform \n",
        "group by hour\n",
        "```\n",
        "- requests per month: \n",
        "```\n",
        "select toStartOfMonth(time) month, countState() requests_count \n",
        "from access_log_transform \n",
        "group by month\n",
        "```\n",
        "\n",
        "Materialized views are really powerful for creating real-time endpoints."
      ]
    }
  ]
}